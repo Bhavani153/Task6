{
 "cells": [
  {
   "cell_type": "code",
   "execution_count": 1,
   "metadata": {},
   "outputs": [
    {
     "name": "stdout",
     "output_type": "stream",
     "text": [
      "even list: [10, 22, 100]\n",
      "odd list: [501, 37, 999, 87, 351]\n"
     ]
    }
   ],
   "source": [
    "#1\n",
    "a= [10,501,22,37,100,999,87,351]\n",
    "evenlist=[]\n",
    "oddlist=[]\n",
    "for i in a:\n",
    "    #print(i)\n",
    "    if (i % 2 == 0):\n",
    "        evenlist.append(i)\n",
    "        #print(\"evenlist\")\n",
    "    else:\n",
    "        oddlist.append(i)\n",
    "print(\"even list:\",evenlist)\n",
    "print(\"odd list:\",oddlist)"
   ]
  },
  {
   "cell_type": "code",
   "execution_count": 2,
   "metadata": {},
   "outputs": [
    {
     "name": "stdout",
     "output_type": "stream",
     "text": [
      "primelist: [37]\n"
     ]
    }
   ],
   "source": [
    "#2\n",
    "a= [10,501,22,37,100,999,87,351]\n",
    "primelist=[]\n",
    "for i in a:\n",
    "    b=0\n",
    "    for j in range (1,i):\n",
    "        if i%j ==0:\n",
    "            b+=1\n",
    "    if b==1:\n",
    "        primelist.append(i)\n",
    "        #print(primelist)\n",
    "        print(\"primelist:\",primelist)"
   ]
  },
  {
   "cell_type": "code",
   "execution_count": 44,
   "metadata": {},
   "outputs": [
    {
     "name": "stdout",
     "output_type": "stream",
     "text": [
      "10\n",
      "501\n",
      "22\n",
      "37\n",
      "100\n",
      "999\n",
      "87\n",
      "351\n",
      "351 is not a happy number\n"
     ]
    }
   ],
   "source": [
    "#3\n",
    "i = [10,501,22,37,100,999,87,351]\n",
    "for num in i:\n",
    "    print(num)\n",
    "def squaredsum(num):\n",
    "    sum=0\n",
    "    while(num):\n",
    "        sum+=(num%10)**2\n",
    "        num=num//10\n",
    "    return sum\n",
    "def happynumber(num):\n",
    "    record=set()\n",
    "    while(1):\n",
    "        num=squaredsum(num)\n",
    "        if num==1:\n",
    "            return True\n",
    "        if num in record:\n",
    "            return False\n",
    "        record.add(num)\n",
    "if happynumber(num):\n",
    "    print(num,\"is a happy number\")\n",
    "else:\n",
    "    print(num,\"is not a happy number\")\n",
    "\n"
   ]
  },
  {
   "cell_type": "code",
   "execution_count": 2,
   "metadata": {},
   "outputs": [
    {
     "name": "stdout",
     "output_type": "stream",
     "text": [
      "addition of first and last digit is 6\n"
     ]
    }
   ],
   "source": [
    "#4\n",
    "number=12345\n",
    "number=str(number)\n",
    "firstdigit = int(number[0])\n",
    "lastdigit=int(number[-1])\n",
    "addition=firstdigit+lastdigit\n",
    "print(\"addition of first and last digit is\",addition)"
   ]
  },
  {
   "cell_type": "code",
   "execution_count": 41,
   "metadata": {},
   "outputs": [
    {
     "name": "stdout",
     "output_type": "stream",
     "text": [
      "18\n",
      "8\n",
      "7\n",
      "6\n",
      "23\n",
      "4\n",
      "9\n",
      "15\n",
      "distributed mangoes are 8.0\n"
     ]
    }
   ],
   "source": [
    "#5\n",
    "bags=8\n",
    "students=15\n",
    "eachbag=[18,8,7,6,23,4,9,15]\n",
    "for i in eachbag:\n",
    "    print(i)\n",
    "result=(bags*i)/students\n",
    "#print(result)\n",
    "print(\"distributed mangoes are\",result)\n"
   ]
  },
  {
   "cell_type": "code",
   "execution_count": 51,
   "metadata": {},
   "outputs": [
    {
     "name": "stdout",
     "output_type": "stream",
     "text": [
      "duplicates in list1 [2, 7]\n",
      "duplicates in list2 [9, 12]\n",
      "duplicates in list3 [3, 4]\n"
     ]
    }
   ],
   "source": [
    "#6\n",
    "l1=[1,2,3,7,4,2,7] #l1,l2,l3=lists\n",
    "l2=[9,12,14,9,8,9,12]\n",
    "l3=[6,3,4,2,3,4,7,9]\n",
    "x1=[] #x1,x2,x3=uniquelist\n",
    "x2=[]\n",
    "x3=[]\n",
    "y1=[] #y1,y2,y3=duplicatelist\n",
    "y2=[]\n",
    "y3=[]\n",
    "for i1 in l1:\n",
    "    if i1 not in x1:\n",
    "        x1.append(i1)\n",
    "    elif i1 not in y1:\n",
    "        y1.append(i1)\n",
    "#print(y1)\n",
    "print(\"duplicates in list1\",y1)\n",
    "\n",
    "for i2 in l2:\n",
    "    if i2 not in x2:\n",
    "        x2.append(i2)\n",
    "    elif i2 not in y2:\n",
    "        y2.append(i2)\n",
    "#print(y2)\n",
    "print(\"duplicates in list2\",y2)\n",
    "\n",
    "for i3 in l3:\n",
    "    if i3 not in x3:\n",
    "        x3.append(i3)\n",
    "    elif i3 not in y3:\n",
    "        y3.append(i3)\n",
    "#print(y3)\n",
    "print(\"duplicates in list3\",y3)"
   ]
  },
  {
   "cell_type": "code",
   "execution_count": 19,
   "metadata": {},
   "outputs": [
    {
     "name": "stdout",
     "output_type": "stream",
     "text": [
      "first non repeating element in the list is\n",
      "8\n"
     ]
    }
   ],
   "source": [
    "#7\n",
    "def non_repeating(list):\n",
    "    non_repeating=[]\n",
    "    for i in list:\n",
    "        if i in non_repeating:\n",
    "            non_repeating.pop(non_repeating.index(i))\n",
    "        else:\n",
    "            non_repeating.append(i)\n",
    "    return non_repeating[0] if non_repeating else None\n",
    "print(\"first non repeating element in the list is\")\n",
    "print(non_repeating([5,8,3,5,4,9,2,1]))"
   ]
  },
  {
   "cell_type": "code",
   "execution_count": 20,
   "metadata": {},
   "outputs": [
    {
     "name": "stdout",
     "output_type": "stream",
     "text": [
      "minimum element is: 12\n"
     ]
    }
   ],
   "source": [
    "#8\n",
    "listx=[50,92,61,23,48,12,71]\n",
    "listx.sort()\n",
    "print(\"minimum element is:\",listx[0])\n"
   ]
  },
  {
   "cell_type": "code",
   "execution_count": 25,
   "metadata": {},
   "outputs": [
    {
     "name": "stdout",
     "output_type": "stream",
     "text": [
      "required triplets: [(20, 9, 30)]\n"
     ]
    }
   ],
   "source": [
    "#9\n",
    "lista=[10,20,30,9]\n",
    "value=59\n",
    "def find_triplets(lista,value):\n",
    "    triplets_count=0\n",
    "    triplets=[]\n",
    "    \n",
    "    for i in range(0,len(lista)-1):\n",
    "        s=set()\n",
    "        tmp=[]\n",
    "        tmp.append(lista[i])\n",
    "        current_value=value-lista[i]\n",
    "        for j in range((i+1),len(lista)):\n",
    "            if(current_value-lista[j]) in s:\n",
    "                triplets_count += 1\n",
    "                tmp.append(lista[j])\n",
    "                tmp.append(current_value-lista[j])\n",
    "                triplets.append(tuple(tmp))\n",
    "                tmp.pop(2)\n",
    "                tmp.pop(1)\n",
    "            s.add(lista[j])\n",
    "    return triplets\n",
    "print(\"required triplets:\",find_triplets(lista,value))"
   ]
  }
 ],
 "metadata": {
  "kernelspec": {
   "display_name": "Python 3",
   "language": "python",
   "name": "python3"
  },
  "language_info": {
   "codemirror_mode": {
    "name": "ipython",
    "version": 3
   },
   "file_extension": ".py",
   "mimetype": "text/x-python",
   "name": "python",
   "nbconvert_exporter": "python",
   "pygments_lexer": "ipython3",
   "version": "3.12.2"
  }
 },
 "nbformat": 4,
 "nbformat_minor": 2
}
